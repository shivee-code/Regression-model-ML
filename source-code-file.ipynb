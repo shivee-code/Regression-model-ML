{
 "cells": [
  {
   "cell_type": "code",
   "execution_count": null,
   "id": "e8590822-dfbf-432f-ba64-aec2d34cdef5",
   "metadata": {},
   "outputs": [],
   "source": []
  }
 ],
 "metadata": {
  "kernelspec": {
   "display_name": "",
   "name": ""
  },
  "language_info": {
   "name": ""
  }
 },
 "nbformat": 4,
 "nbformat_minor": 5
}
